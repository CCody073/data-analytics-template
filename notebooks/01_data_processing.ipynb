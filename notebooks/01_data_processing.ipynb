{
 "cells": [
  {
   "cell_type": "markdown",
   "id": "1f021d15-fc64-436c-bb56-9ee5e2181a5a",
   "metadata": {},
   "source": [
    "# 01_data_processing.ipynb\n",
    "\n",
    "# NFL Data Processing\n",
    "\n",
    "- NOTE: actual_totals WILL have some blank values since it is only calculated if the game has already been completed at the time the script is run.\n",
    "- NOTE: predicted_totals and prediction_correct columns are calculated in the next notebook.\n",
    "- NOTE: For the purposes of this script's output being consistent with our report, the processed_data file wil not be appended to the nfl_total_latest file since that would change our report's results. This script simply exists to show how the data cleaning/transformation takes place.\n",
    "\n",
    "This notebook processes the raw data files and creates a standardized dataset matching the format of nfl_totals_latest.csv.\n",
    "\n",
    "## Input Files:\n",
    "- raw_odds_api.csv: Raw betting odds data\n",
    "- raw_scores_api.csv: Raw game scores data\n",
    "- raw_team_stats.csv: Raw team statistics\n",
    "\n",
    "## Output File:\n",
    "- processed_nfl_totals.csv: Processed and standardized dataset"
   ]
  },
  {
   "cell_type": "code",
   "execution_count": null,
   "id": "f05438a2-e538-4685-b44c-5e65eb2851bf",
   "metadata": {},
   "outputs": [],
   "source": [
    "# Import required libraries\n",
    "import pandas as pd\n",
    "import numpy as np\n",
    "from datetime import datetime"
   ]
  },
  {
   "cell_type": "markdown",
   "id": "8a04924c-8ec4-4d15-8e43-2569c2cca2ff",
   "metadata": {},
   "source": [
    "### Load all raw data files"
   ]
  },
  {
   "cell_type": "code",
   "execution_count": null,
   "id": "71254341-a0bd-4b5c-b486-388b19248a18",
   "metadata": {},
   "outputs": [],
   "source": [
    "def load_raw_data():\n",
    "    odds_df = pd.read_csv('raw_odds_api.csv')\n",
    "    scores_df = pd.read_csv('raw_scores_api.csv')\n",
    "    team_stats_df = pd.read_csv('raw_team_stats.csv')\n",
    "    \n",
    "    return odds_df, scores_df, team_stats_df"
   ]
  },
  {
   "cell_type": "markdown",
   "id": "c0952f22-6d8d-456a-a8d8-4a9c6d5a0a3f",
   "metadata": {},
   "source": [
    "### Process raw odds data into standardized format"
   ]
  },
  {
   "cell_type": "code",
   "execution_count": null,
   "id": "053fc4f8-4376-44e6-a1ca-a55291b211b6",
   "metadata": {},
   "outputs": [],
   "source": [
    "def process_odds_data(odds_df):\n",
    "    \n",
    "    # Keep only totals market data with \"Over\" lines\n",
    "    odds_df = odds_df[odds_df['name'] == 'Over'].copy()\n",
    "    \n",
    "    # Standardize column names\n",
    "    odds_df = odds_df.rename(columns={\n",
    "        'name': 'type',\n",
    "        'price': 'odds',\n",
    "        'bookmakers.key': 'bookmaker_key',\n",
    "        'bookmakers.last_update': 'bookmaker_last_update'\n",
    "    })\n",
    "    \n",
    "    # Convert timestamps\n",
    "    odds_df['commence_time'] = pd.to_datetime(odds_df['commence_time'])\n",
    "    odds_df['bookmaker_last_update'] = pd.to_datetime(odds_df['bookmaker_last_update'])\n",
    "    \n",
    "    # Convert numeric fields\n",
    "    odds_df['odds'] = pd.to_numeric(odds_df['odds'])\n",
    "    odds_df['point'] = pd.to_numeric(odds_df['point'])\n",
    "    \n",
    "    # Select and order columns to match final format\n",
    "    return odds_df[[\n",
    "        'type', \n",
    "        'odds', \n",
    "        'point',\n",
    "        'commence_time',\n",
    "        'home_team',\n",
    "        'away_team',\n",
    "        'bookmaker_key',\n",
    "        'bookmaker_last_update'\n",
    "    ]]"
   ]
  },
  {
   "cell_type": "markdown",
   "id": "0784aab0-c875-4998-81c1-5d3c1a192871",
   "metadata": {},
   "source": [
    "### Process raw scores data to calculate actual totals"
   ]
  },
  {
   "cell_type": "code",
   "execution_count": null,
   "id": "32a47665-dbe0-4ab9-9bba-67c81a8337d2",
   "metadata": {},
   "outputs": [],
   "source": [
    "def process_scores_data(scores_df):\n",
    "    \n",
    "    def calculate_total(row):\n",
    "        if pd.isna(row['scores']) or not row['completed']:\n",
    "            return np.nan\n",
    "        scores = eval(row['scores'])  # Safely evaluate string representation of scores list\n",
    "        return sum(float(score['score']) for score in scores)\n",
    "    \n",
    "    scores_df['actual_total'] = scores_df.apply(calculate_total, axis=1)\n",
    "    scores_df['commence_time'] = pd.to_datetime(scores_df['commence_time'])\n",
    "    \n",
    "    return scores_df[['home_team', 'away_team', 'commence_time', 'actual_total']]"
   ]
  },
  {
   "cell_type": "markdown",
   "id": "5e04f32b-f8ad-4db2-ab22-e05415f2dbab",
   "metadata": {},
   "source": [
    "### Process raw team statistics and standardize team names"
   ]
  },
  {
   "cell_type": "code",
   "execution_count": null,
   "id": "cd88f48f-55fd-43ce-be11-7af2f962ba2d",
   "metadata": {},
   "outputs": [],
   "source": [
    "def process_team_stats(team_stats_df):\n",
    "    \n",
    "    # Team name mapping dictionary\n",
    "    team_name_map = {\n",
    "        'Arizona': 'Arizona Cardinals',\n",
    "        'Atlanta': 'Atlanta Falcons',\n",
    "        'Baltimore': 'Baltimore Ravens',\n",
    "        'Buffalo': 'Buffalo Bills',\n",
    "        'Carolina': 'Carolina Panthers',\n",
    "        'Chicago': 'Chicago Bears',\n",
    "        'Cincinnati': 'Cincinnati Bengals',\n",
    "        'Cleveland': 'Cleveland Browns',\n",
    "        'Dallas': 'Dallas Cowboys',\n",
    "        'Denver': 'Denver Broncos',\n",
    "        'Detroit': 'Detroit Lions',\n",
    "        'Green Bay': 'Green Bay Packers',\n",
    "        'Houston': 'Houston Texans',\n",
    "        'Indianapolis': 'Indianapolis Colts',\n",
    "        'Jacksonville': 'Jacksonville Jaguars',\n",
    "        'Kansas City': 'Kansas City Chiefs',\n",
    "        'Las Vegas': 'Las Vegas Raiders',\n",
    "        'LA Chargers': 'Los Angeles Chargers',\n",
    "        'Los Angeles Chargers': 'Los Angeles Chargers',\n",
    "        'LA Rams': 'Los Angeles Rams',\n",
    "        'Los Angeles Rams': 'Los Angeles Rams',\n",
    "        'Miami': 'Miami Dolphins',\n",
    "        'Minnesota': 'Minnesota Vikings',\n",
    "        'New England': 'New England Patriots',\n",
    "        'New Orleans': 'New Orleans Saints',\n",
    "        'NY Giants': 'New York Giants',\n",
    "        'New York Giants': 'New York Giants',\n",
    "        'NY Jets': 'New York Jets',\n",
    "        'New York Jets': 'New York Jets',\n",
    "        'Philadelphia': 'Philadelphia Eagles',\n",
    "        'Pittsburgh': 'Pittsburgh Steelers',\n",
    "        'San Francisco': 'San Francisco 49ers',\n",
    "        'Seattle': 'Seattle Seahawks',\n",
    "        'Tampa Bay': 'Tampa Bay Buccaneers',\n",
    "        'Tennessee': 'Tennessee Titans',\n",
    "        'Washington': 'Washington Commanders'\n",
    "    }\n",
    "    \n",
    "    # Apply team name standardization\n",
    "    team_stats_df['Team'] = team_stats_df['Team'].map(team_name_map)\n",
    "    \n",
    "    # Convert rank and stats to numeric\n",
    "    team_stats_df['Offense_Rank'] = pd.to_numeric(team_stats_df['Offense_Rank'])\n",
    "    team_stats_df['Defense_Rank'] = pd.to_numeric(team_stats_df['Defense_Rank'])\n",
    "    team_stats_df['Points_For'] = pd.to_numeric(team_stats_df['Points_For'])\n",
    "    team_stats_df['Points_Against'] = pd.to_numeric(team_stats_df['Points_Against'])\n",
    "    \n",
    "    return team_stats_df"
   ]
  },
  {
   "cell_type": "markdown",
   "id": "b5fdcb07-0326-4038-8849-464f293903fc",
   "metadata": {},
   "source": [
    "### Merge all processed data and format to match nfl_totals_latest.csv"
   ]
  },
  {
   "cell_type": "code",
   "execution_count": null,
   "id": "87313a1b-f3d1-4ba6-a0dc-9bbde02a03e6",
   "metadata": {},
   "outputs": [],
   "source": [
    "def merge_and_format_data(odds_df, scores_df, team_stats_df):\n",
    "    \n",
    "    # Merge odds and scores\n",
    "    df = pd.merge(\n",
    "        odds_df,\n",
    "        scores_df,\n",
    "        on=['home_team', 'away_team', 'commence_time'],\n",
    "        how='left'\n",
    "    )\n",
    "    \n",
    "    # Add team stats\n",
    "    for team_type in ['home', 'away']:\n",
    "        df = pd.merge(\n",
    "            df,\n",
    "            team_stats_df,\n",
    "            left_on=f'{team_type}_team',\n",
    "            right_on='Team',\n",
    "            how='left'\n",
    "        )\n",
    "        \n",
    "        # Rename columns appropriately\n",
    "        df = df.rename(columns={\n",
    "            'Offense_Rank': f'{team_type}_offense_rank',\n",
    "            'Defense_Rank': f'{team_type}_defense_rank',\n",
    "            'Points_For': f'{team_type}_points_for',\n",
    "            'Points_Against': f'{team_type}_points_against'\n",
    "        })\n",
    "    \n",
    "    # Add week numbers\n",
    "    df['week'] = df['commence_time'].apply(determine_nfl_week)\n",
    "    \n",
    "    # Calculate predictions\n",
    "    df['predicted_total'] = None  # To be calculated in analysis notebook\n",
    "    df['prediction_correct'] = None  # To be calculated in analysis notebook\n",
    "    \n",
    "    # Final column ordering to match nfl_totals_latest.csv\n",
    "    columns = [\n",
    "        'type', 'odds', 'point', 'commence_time', 'home_team', 'away_team',\n",
    "        'bookmaker_key', 'bookmaker_last_update', 'home_offense_rank',\n",
    "        'home_points_for', 'home_defense_rank', 'home_points_against',\n",
    "        'away_offense_rank', 'away_points_for', 'away_defense_rank',\n",
    "        'away_points_against', 'actual_total', 'week', 'predicted_total',\n",
    "        'prediction_correct'\n",
    "    ]\n",
    "    \n",
    "    return df[columns]"
   ]
  },
  {
   "cell_type": "markdown",
   "id": "9fd41cda-f259-470b-9719-d396dd2ed6a1",
   "metadata": {},
   "source": [
    "### Main processing pipeline"
   ]
  },
  {
   "cell_type": "code",
   "execution_count": null,
   "id": "c31d6a4f-715a-4c11-a31e-5ad4ea7b1972",
   "metadata": {},
   "outputs": [],
   "source": [
    "def main():\n",
    "\n",
    "    # Load raw data\n",
    "    print(\"Loading raw data files...\")\n",
    "    odds_df, scores_df, team_stats_df = load_raw_data()\n",
    "    \n",
    "    # Process each dataset\n",
    "    print(\"Processing odds data...\")\n",
    "    odds_df = process_odds_data(odds_df)\n",
    "    \n",
    "    print(\"Processing scores data...\")\n",
    "    scores_df = process_scores_data(scores_df)\n",
    "    \n",
    "    print(\"Processing team stats...\")\n",
    "    team_stats_df = process_team_stats(team_stats_df)\n",
    "    \n",
    "    # Merge and format\n",
    "    print(\"Merging and formatting data...\")\n",
    "    final_df = merge_and_format_data(odds_df, scores_df, team_stats_df)\n",
    "    \n",
    "    # Save processed data\n",
    "    print(\"Saving processed data...\")\n",
    "    final_df.to_csv('processed_nfl_totals.csv', index=False)\n",
    "    print(\"Processing complete! Output saved to processed_nfl_totals.csv\")\n",
    "    \n",
    "    return final_df\n",
    "\n",
    "if __name__ == \"__main__\":\n",
    "    processed_df = main()"
   ]
  },
  {
   "cell_type": "code",
   "execution_count": null,
   "id": "a5f418f4-9160-4f54-9653-171ba69744d0",
   "metadata": {},
   "outputs": [],
   "source": []
  }
 ],
 "metadata": {
  "kernelspec": {
   "display_name": "Python 3 (ipykernel)",
   "language": "python",
   "name": "python3"
  },
  "language_info": {
   "codemirror_mode": {
    "name": "ipython",
    "version": 3
   },
   "file_extension": ".py",
   "mimetype": "text/x-python",
   "name": "python",
   "nbconvert_exporter": "python",
   "pygments_lexer": "ipython3",
   "version": "3.12.3"
  }
 },
 "nbformat": 4,
 "nbformat_minor": 5
}
