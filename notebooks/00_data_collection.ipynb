{
 "cells": [
  {
   "cell_type": "markdown",
   "id": "e5a228c5-7a30-4c8e-b7ab-343102021bfd",
   "metadata": {},
   "source": [
    "# 00_data_collection.ipynb\n",
    "\n",
    "# NFL Data Collection\n",
    "\n",
    "This notebook collects raw data from:\n",
    "- The Odds API (https://api.the-odds-api.com)\n",
    "- Team Rankings (https://www.teamrankings.com/nfl/stat/)\n",
    "\n",
    "## Data Sources\n",
    "- Odds data: https://api.the-odds-api.com/v4/sports/americanfootball_nfl/odds/\n",
    "- Scores data: https://api.the-odds-api.com/v4/sports/americanfootball_nfl/scores/\n",
    "- Team offensive stats: https://www.teamrankings.com/nfl/stat/points-per-game\n",
    "- Team defensive stats: https://www.teamrankings.com/nfl/stat/opponent-points-per-game\n",
    "\n",
    "## Output Files\n",
    "- raw_odds_api.csv: Raw betting odds data\n",
    "- raw_scores_api.csv: Raw game scores data  \n",
    "- raw_team_stats.csv: Raw team statistics"
   ]
  },
  {
   "cell_type": "code",
   "execution_count": null,
   "id": "c1fc58b5-6711-4b5e-8242-6c02e1a6df82",
   "metadata": {},
   "outputs": [],
   "source": [
    "# Import required libraries\n",
    "import pandas as pd\n",
    "import numpy as np\n",
    "import requests\n",
    "from datetime import datetime\n",
    "from selenium import webdriver\n",
    "from selenium.webdriver.common.by import By\n",
    "from selenium.webdriver.chrome.service import Service\n",
    "from selenium.webdriver.support.ui import WebDriverWait\n",
    "from selenium.webdriver.support import expected_conditions as EC\n",
    "from webdriver_manager.chrome import ChromeDriverManager"
   ]
  },
  {
   "cell_type": "markdown",
   "id": "358e5749-faaf-4c1e-b61e-c1bd9f0cf43b",
   "metadata": {},
   "source": [
    "### Fetch raw odds data from The Odds API"
   ]
  },
  {
   "cell_type": "code",
   "execution_count": null,
   "id": "60d8d47e-86cc-4124-adbf-732e3ae2384d",
   "metadata": {},
   "outputs": [],
   "source": [
    "def fetch_odds_data(api_key):\n",
    "    odds_url = f\"https://api.the-odds-api.com/v4/sports/americanfootball_nfl/odds/?regions=us&markets=totals&apiKey={api_key}\"\n",
    "    \n",
    "    response = requests.get(odds_url)\n",
    "    odds_data = response.json()\n",
    "    \n",
    "    odds_df = pd.json_normalize(\n",
    "        odds_data,\n",
    "        record_path=['bookmakers', 'markets', 'outcomes'],\n",
    "        meta=['id', 'sport_key', 'commence_time', 'home_team', 'away_team',\n",
    "              ['bookmakers', 'key'], ['bookmakers', 'last_update']]\n",
    "    )\n",
    "    \n",
    "    return odds_df"
   ]
  },
  {
   "cell_type": "markdown",
   "id": "3f89c731-23ba-41fb-922a-f5698ed169db",
   "metadata": {},
   "source": [
    "### Fetch raw scores data from The Odds API"
   ]
  },
  {
   "cell_type": "code",
   "execution_count": null,
   "id": "5321fdee-d4d8-47d5-b06b-fd66ae576a3d",
   "metadata": {},
   "outputs": [],
   "source": [
    "def fetch_scores_data(api_key, days_from=3):\n",
    "    scores_url = f\"https://api.the-odds-api.com/v4/sports/americanfootball_nfl/scores/?apiKey={api_key}&daysFrom={days_from}\"\n",
    "    \n",
    "    response = requests.get(scores_url)\n",
    "    scores_data = response.json()\n",
    "    \n",
    "    # Convert to DataFrame\n",
    "    scores_df = pd.DataFrame(scores_data)\n",
    "    \n",
    "    # Keep important columns\n",
    "    if not scores_df.empty:\n",
    "        scores_df = scores_df[['id', 'home_team', 'away_team', 'commence_time', 'completed', 'scores']]\n",
    "    \n",
    "    return scores_df"
   ]
  },
  {
   "cell_type": "markdown",
   "id": "b352e42a-850a-4ead-9333-5d362fbc6f5c",
   "metadata": {},
   "source": [
    "### Scrape raw team statistics from Team Rankings"
   ]
  },
  {
   "cell_type": "code",
   "execution_count": null,
   "id": "bfeade97-de67-4085-9b18-9a5ece4406c3",
   "metadata": {},
   "outputs": [],
   "source": [
    "def scrape_team_stats():\n",
    "    \n",
    "    def scrape_table(url):\n",
    "        driver = None\n",
    "        try:\n",
    "            driver = webdriver.Chrome(service=Service(ChromeDriverManager().install()))\n",
    "            driver.get(url)\n",
    "            \n",
    "            # Wait for table to load\n",
    "            WebDriverWait(driver, 10).until(\n",
    "                EC.presence_of_element_located((By.CSS_SELECTOR, 'table.tr-table tbody tr'))\n",
    "            )\n",
    "            \n",
    "            # Extract data\n",
    "            rows = driver.find_elements(By.CSS_SELECTOR, 'table.tr-table tbody tr')\n",
    "            data = []\n",
    "            for row in rows:\n",
    "                cells = row.find_elements(By.TAG_NAME, 'td')\n",
    "                data.append([cells[i].text.strip() for i in range(3)])\n",
    "                \n",
    "            return pd.DataFrame(data, columns=['Rank', 'Team', 'Value'])\n",
    "            \n",
    "        finally:\n",
    "            if driver:\n",
    "                driver.quit()\n",
    "    \n",
    "    # Scrape offensive and defensive stats\n",
    "    offense_url = 'https://www.teamrankings.com/nfl/stat/points-per-game'\n",
    "    defense_url = 'https://www.teamrankings.com/nfl/stat/opponent-points-per-game'\n",
    "    \n",
    "    offense_df = scrape_table(offense_url)\n",
    "    offense_df = offense_df.rename(columns={'Value': 'Points_For', 'Rank': 'Offense_Rank'})\n",
    "    \n",
    "    defense_df = scrape_table(defense_url)\n",
    "    defense_df = defense_df.rename(columns={'Value': 'Points_Against', 'Rank': 'Defense_Rank'})\n",
    "    \n",
    "    # Merge offensive and defensive stats\n",
    "    team_stats = pd.merge(offense_df, defense_df, on='Team', suffixes=('_off', '_def'))\n",
    "    \n",
    "    return team_stats"
   ]
  },
  {
   "cell_type": "markdown",
   "id": "43f44a3a-dfb7-4a92-a819-98c0411d8c3b",
   "metadata": {},
   "source": [
    "### Main function to collect and save raw data"
   ]
  },
  {
   "cell_type": "code",
   "execution_count": null,
   "id": "9f3c4a70-f921-4a32-8fce-7fe68c4e4d93",
   "metadata": {},
   "outputs": [],
   "source": [
    "def main():\n",
    "    # API Key\n",
    "    API_KEY = \"c4d67ad06db6b4a85ed66b87d40a1cf2\"  # Replace with your API key\n",
    "    \n",
    "    # Collect odds data\n",
    "    print(\"Fetching odds data...\")\n",
    "    odds_df = fetch_odds_data(API_KEY)\n",
    "    odds_df.to_csv('raw_odds_api.csv', index=False)\n",
    "    print(\"Saved raw odds data to raw_odds_api.csv\")\n",
    "    \n",
    "    # Collect scores data\n",
    "    print(\"Fetching scores data...\")\n",
    "    scores_df = fetch_scores_data(API_KEY)\n",
    "    scores_df.to_csv('raw_scores_api.csv', index=False)\n",
    "    print(\"Saved raw scores data to raw_scores_api.csv\")\n",
    "    \n",
    "    # Collect team stats\n",
    "    print(\"Scraping team stats...\")\n",
    "    team_stats = scrape_team_stats()\n",
    "    team_stats.to_csv('raw_team_stats.csv', index=False)\n",
    "    print(\"Saved raw team stats to raw_team_stats.csv\")\n",
    "\n",
    "if __name__ == \"__main__\":\n",
    "    main()"
   ]
  },
  {
   "cell_type": "code",
   "execution_count": null,
   "id": "2b1dfbb2-3710-49b4-a72c-f7e05dab5dc3",
   "metadata": {},
   "outputs": [],
   "source": []
  }
 ],
 "metadata": {
  "kernelspec": {
   "display_name": "Python 3 (ipykernel)",
   "language": "python",
   "name": "python3"
  },
  "language_info": {
   "codemirror_mode": {
    "name": "ipython",
    "version": 3
   },
   "file_extension": ".py",
   "mimetype": "text/x-python",
   "name": "python",
   "nbconvert_exporter": "python",
   "pygments_lexer": "ipython3",
   "version": "3.12.3"
  }
 },
 "nbformat": 4,
 "nbformat_minor": 5
}
